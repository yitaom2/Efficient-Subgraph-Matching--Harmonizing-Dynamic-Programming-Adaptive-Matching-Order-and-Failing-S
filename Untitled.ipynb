{
 "cells": [
  {
   "cell_type": "code",
   "execution_count": 29,
   "metadata": {},
   "outputs": [],
   "source": [
    "Graph_label_class = {}\n",
    "# format: {'A': ['1', '2'], 'B': ['3', '4']}\n",
    "Graph_edge = {}\n",
    "# format: {'1': {'A': ['3', '4'], 'B': ['2']}, '2': {'A': ['1']}...}\n",
    "Graph_label = {}\n",
    "# format: {'1': 'A', '2': 'A'...}\n",
    "\n",
    "testfile = open(\"test.txt\", \"r\")\n",
    "for string in testfile:\n",
    "    # three types of lines\n",
    "    # 1. \"int\" \n",
    "    # 2. \"index label\\n\" -- denotes a vertex's label\n",
    "    # 3. \"index index\\n\" -- denotes a edge between vertex\n",
    "    line = string.split(' ')\n",
    "    if len(line) > 1:\n",
    "        # case 2 or 3\n",
    "        first_part = line[0]\n",
    "        second_part = line[1][:-1]\n",
    "        if second_part.isdigit():\n",
    "            # case 3\n",
    "            if first_part not in Graph_index:\n",
    "                Graph_index[first_part] = {}\n",
    "            if second_part\n",
    "            Graph_index[first_part][]\n",
    "        else:\n",
    "            \n",
    "testfile.close()"
   ]
  },
  {
   "cell_type": "code",
   "execution_count": 32,
   "metadata": {},
   "outputs": [],
   "source": [
    "c = {'1':{'a':['0','2','3'], 'b': ['4', '5']}, '2': {'c': ['6']}}\n",
    "c['1']['c'] = {}"
   ]
  },
  {
   "cell_type": "code",
   "execution_count": null,
   "metadata": {
    "collapsed": true
   },
   "outputs": [],
   "source": []
  }
 ],
 "metadata": {
  "kernelspec": {
   "display_name": "Python 3",
   "language": "python",
   "name": "python3"
  },
  "language_info": {
   "codemirror_mode": {
    "name": "ipython",
    "version": 3
   },
   "file_extension": ".py",
   "mimetype": "text/x-python",
   "name": "python",
   "nbconvert_exporter": "python",
   "pygments_lexer": "ipython3",
   "version": "3.6.7"
  }
 },
 "nbformat": 4,
 "nbformat_minor": 2
}
