{
 "cells": [
  {
   "cell_type": "code",
   "execution_count": 72,
   "metadata": {
    "collapsed": true
   },
   "outputs": [],
   "source": [
    "import numpy as np"
   ]
  },
  {
   "cell_type": "markdown",
   "metadata": {},
   "source": [
    "# Preprocessing Graph G"
   ]
  },
  {
   "cell_type": "code",
   "execution_count": 17,
   "metadata": {},
   "outputs": [],
   "source": [
    "Graph_label_class = {}\n",
    "# format: {'A': ['1', '2'], 'B': ['3', '4']}\n",
    "Graph_edge = {}\n",
    "# format: {'1': {'A': ['3', '4'], 'B': ['2']}, '2': {'A': ['1']}...}\n",
    "Graph_label = {}\n",
    "# format: {'1': 'A', '2': 'A'...}\n",
    "\n",
    "testfile = open(\"test.txt\", \"r\")\n",
    "for string in testfile:\n",
    "    # three types of lines\n",
    "    # 1. \"int\" \n",
    "    # 2. \"index label\\n\" -- denotes a vertex's label\n",
    "    # 3. \"index index\\n\" -- denotes a edge between vertex\n",
    "    line = string.split(' ')\n",
    "    if len(line) > 1:\n",
    "        # case 2 or 3\n",
    "        first_part = line[0]\n",
    "        second_part = line[1]\n",
    "        if second_part[-1] == \"\\n\":\n",
    "            second_part = second_part[:-1]\n",
    "        if second_part.isdigit():\n",
    "            # case 3\n",
    "            f_l = Graph_label[first_part]\n",
    "            s_l = Graph_label[second_part]\n",
    "            if s_l not in Graph_edge[first_part]:\n",
    "                Graph_edge[first_part][s_l] = []\n",
    "            Graph_edge[first_part][s_l].append(second_part)\n",
    "            if f_l not in Graph_edge[second_part]:\n",
    "                Graph_edge[second_part][f_l] = []\n",
    "            Graph_edge[second_part][f_l].append(first_part)\n",
    "        else:\n",
    "            Graph_label[first_part] = second_part\n",
    "            template = {}\n",
    "            Graph_edge[first_part] = {}\n",
    "            if second_part not in Graph_label_class:\n",
    "                Graph_label_class[second_part] = []\n",
    "            Graph_label_class[second_part].append(first_part)\n",
    "            \n",
    "testfile.close()"
   ]
  },
  {
   "cell_type": "markdown",
   "metadata": {},
   "source": [
    "# Preprocessing Query q"
   ]
  },
  {
   "cell_type": "code",
   "execution_count": 19,
   "metadata": {},
   "outputs": [],
   "source": [
    "q_edge = {}\n",
    "q_label = {}\n",
    "\n",
    "testfile = open(\"testquery.txt\", \"r\")\n",
    "for string in testfile:\n",
    "    line = string.split(' ')\n",
    "    if len(line) > 1:\n",
    "        first_part = line[0]\n",
    "        second_part = line[1]\n",
    "        if second_part[-1] == \"\\n\":\n",
    "            second_part = second_part[:-1]\n",
    "        if second_part.isdigit():\n",
    "            f_l = q_label[first_part]\n",
    "            s_l = q_label[second_part]\n",
    "            if s_l not in q_edge[first_part]:\n",
    "                q_edge[first_part][s_l] = []\n",
    "            q_edge[first_part][s_l].append(second_part)\n",
    "            if f_l not in q_edge[second_part]:\n",
    "                q_edge[second_part][f_l] = []\n",
    "            q_edge[second_part][f_l].append(first_part)\n",
    "        else:\n",
    "            q_label[first_part] = second_part\n",
    "            template = {}\n",
    "            q_edge[first_part] = {}\n",
    "            \n",
    "testfile.close()"
   ]
  },
  {
   "cell_type": "markdown",
   "metadata": {
    "collapsed": true
   },
   "source": [
    "# BuildDAG(q, G)"
   ]
  },
  {
   "cell_type": "markdown",
   "metadata": {},
   "source": [
    "find the root: prefer the root to have a small number of candidates in G and to have a large degree for better pruning"
   ]
  },
  {
   "cell_type": "code",
   "execution_count": 75,
   "metadata": {},
   "outputs": [],
   "source": [
    "array = []\n",
    "for i in q_label.keys():\n",
    "    count = 0\n",
    "    for j in q_edge[i].values():\n",
    "        count += len(j)\n",
    "    array.append(len(Graph_label_class[q_label[i]]) / count)\n",
    "\n",
    "rootid = np.argmin(array) #id for list(q_label.keys())"
   ]
  },
  {
   "cell_type": "markdown",
   "metadata": {},
   "source": [
    "create DAG tree"
   ]
  },
  {
   "cell_type": "code",
   "execution_count": 117,
   "metadata": {},
   "outputs": [],
   "source": [
    "def deep_copy(lib):\n",
    "    ret = {}\n",
    "    for i in lib.keys():\n",
    "        ret[i] = lib[i].copy()\n",
    "    return ret\n",
    "\n",
    "#pop and push for array\n",
    "def q_pop(array):\n",
    "    temp = array[0]\n",
    "    array.pop(0)\n",
    "    return temp\n",
    "\n",
    "def q_push(array, element_list):\n",
    "    return array + element_list"
   ]
  },
  {
   "cell_type": "code",
   "execution_count": 84,
   "metadata": {},
   "outputs": [
    {
     "data": {
      "text/plain": [
       "dict_keys(['A', 'B', 'C', 'D'])"
      ]
     },
     "execution_count": 84,
     "metadata": {},
     "output_type": "execute_result"
    }
   ],
   "source": [
    "q_D = deep_copy(q_edge)\n",
    "q_D_i = deep_copy(q_edge)\n",
    "\n",
    "start_key = list(q_label.keys())[rootid]\n",
    "queue = [start_key]\n",
    "while len(start_key) > 0:\n",
    "    current = q_pop(queue)\n",
    "    \n",
    "    groups = q_edge[current]\n",
    "    for a in range(len(groups)):\n",
    "        # delete relationships within layers\n",
    "        for m in q_edge[current].:\n",
    "            \n",
    "        \n",
    "        # delete relationships within labels\n",
    "        for b in range(a, len(groups)):\n",
    "            if 'a more frequent than b':\n",
    "                # remove edge a[...]->b[...] if exists\n",
    "                \n",
    "        \n",
    "        # delete relationships within a label\n",
    "        neighbor_g = q_edge[current][a]\n",
    "        for i in range(len(neighbor_g)):\n",
    "            for j in range(i, len(neighbor_g)):\n",
    "                if \"i's degrees is smaller than j's degree\":\n",
    "                    # remove edge i->j if exists\n",
    "                    if 'label of j' in q_edge['key of i'] and 'key of j' in q_edge['key of i']['label of j']:\n",
    "                        q_D['key of i']['label of j'].remove('key of j')\n",
    "                        q_D_i['key of j']['label of i'].remove('key of i')"
   ]
  },
  {
   "cell_type": "code",
   "execution_count": 118,
   "metadata": {},
   "outputs": [
    {
     "data": {
      "text/plain": [
       "['1', '3', '4']"
      ]
     },
     "execution_count": 118,
     "metadata": {},
     "output_type": "execute_result"
    }
   ],
   "source": [
    "cur = list(q_label.keys())\n",
    "cur.remove('2')\n",
    "cur"
   ]
  },
  {
   "cell_type": "code",
   "execution_count": 100,
   "metadata": {},
   "outputs": [
    {
     "data": {
      "text/plain": [
       "['3', '4', '8', '12']"
      ]
     },
     "execution_count": 100,
     "metadata": {},
     "output_type": "execute_result"
    }
   ],
   "source": [
    "c = Graph_label_class['B'].copy()\n",
    "c"
   ]
  },
  {
   "cell_type": "code",
   "execution_count": 103,
   "metadata": {},
   "outputs": [
    {
     "data": {
      "text/plain": [
       "['8', '12']"
      ]
     },
     "execution_count": 103,
     "metadata": {},
     "output_type": "execute_result"
    }
   ],
   "source": [
    "c.pop(0)\n",
    "c"
   ]
  },
  {
   "cell_type": "code",
   "execution_count": 90,
   "metadata": {},
   "outputs": [
    {
     "data": {
      "text/plain": [
       "{'1': {'B': ['2'], 'C': ['3']},\n",
       " '2': {'A': ['1'], 'C': ['3'], 'D': ['4']},\n",
       " '3': {'A': ['1'], 'B': ['2'], 'D': ['4']},\n",
       " '4': {'B': ['2'], 'C': ['3']}}"
      ]
     },
     "execution_count": 90,
     "metadata": {},
     "output_type": "execute_result"
    }
   ],
   "source": [
    "q_edge"
   ]
  },
  {
   "cell_type": "code",
   "execution_count": 116,
   "metadata": {},
   "outputs": [
    {
     "data": {
      "text/plain": [
       "[4, 3, 2, 9, 5]"
      ]
     },
     "execution_count": 116,
     "metadata": {},
     "output_type": "execute_result"
    }
   ],
   "source": [
    "A = [4,3,2]\n",
    "B = [9,5]\n",
    "A + B"
   ]
  },
  {
   "cell_type": "code",
   "execution_count": null,
   "metadata": {
    "collapsed": true
   },
   "outputs": [],
   "source": []
  }
 ],
 "metadata": {
  "kernelspec": {
   "display_name": "Python 3",
   "language": "python",
   "name": "python3"
  },
  "language_info": {
   "codemirror_mode": {
    "name": "ipython",
    "version": 3
   },
   "file_extension": ".py",
   "mimetype": "text/x-python",
   "name": "python",
   "nbconvert_exporter": "python",
   "pygments_lexer": "ipython3",
   "version": "3.6.7"
  }
 },
 "nbformat": 4,
 "nbformat_minor": 2
}
