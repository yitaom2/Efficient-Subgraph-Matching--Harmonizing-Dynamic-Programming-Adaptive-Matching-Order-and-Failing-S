{
 "cells": [
  {
   "cell_type": "code",
   "execution_count": 1,
   "metadata": {
    "collapsed": true
   },
   "outputs": [],
   "source": [
    "import numpy as np\n",
    "from itertools import chain\n",
    "from queue import *"
   ]
  },
  {
   "cell_type": "markdown",
   "metadata": {},
   "source": [
    "# Preprocessing"
   ]
  },
  {
   "cell_type": "markdown",
   "metadata": {},
   "source": [
    "Preprocessing Graph G"
   ]
  },
  {
   "cell_type": "markdown",
   "metadata": {},
   "source": [
    "important variables:\n",
    "    Graph_label_class\n",
    "    Graph_edge\n",
    "    Graph_label"
   ]
  },
  {
   "cell_type": "code",
   "execution_count": 2,
   "metadata": {
    "collapsed": true
   },
   "outputs": [],
   "source": [
    "Graph_label_class = {}\n",
    "# format: {'A': ['1', '2'], 'B': ['3', '4']}\n",
    "Graph_edge = {}\n",
    "# format: {'1': {'A': ['3', '4'], 'B': ['2']}, '2': {'A': ['1']}...}\n",
    "Graph_label = {}\n",
    "# format: {'1': 'A', '2': 'A'...}\n",
    "Graph_vt_degree = {}\n",
    "# format: {'1': 6, '2': 9...}\n",
    "\n",
    "testfile = open(\"test.txt\", \"r\")\n",
    "for string in testfile:\n",
    "    # three types of lines\n",
    "    # 1. \"int\" \n",
    "    # 2. \"index label\\n\" -- denotes a vertex's label\n",
    "    # 3. \"index index\\n\" -- denotes a edge between vertex\n",
    "    line = string.split(' ')\n",
    "    if len(line) > 1:\n",
    "        # case 2 or 3\n",
    "        first_part = line[0]\n",
    "        second_part = line[1]\n",
    "        if second_part[-1] == \"\\n\":\n",
    "            second_part = second_part[:-1]\n",
    "        if second_part.isdigit():\n",
    "            # case 3\n",
    "            f_l = Graph_label[first_part]\n",
    "            s_l = Graph_label[second_part]\n",
    "            if s_l not in Graph_edge[first_part]:\n",
    "                Graph_edge[first_part][s_l] = []\n",
    "            Graph_edge[first_part][s_l].append(second_part)\n",
    "            if f_l not in Graph_edge[second_part]:\n",
    "                Graph_edge[second_part][f_l] = []\n",
    "            Graph_edge[second_part][f_l].append(first_part)\n",
    "        else:\n",
    "            Graph_label[first_part] = second_part\n",
    "            template = {}\n",
    "            Graph_edge[first_part] = {}\n",
    "            if second_part not in Graph_label_class:\n",
    "                Graph_label_class[second_part] = []\n",
    "            Graph_label_class[second_part].append(first_part)\n",
    "            \n",
    "testfile.close()\n",
    "\n",
    "for node in Graph_edge:\n",
    "    Graph_vt_degree[node] = len(list(chain.from_iterable(list(Graph_edge[node].values()))))"
   ]
  },
  {
   "cell_type": "markdown",
   "metadata": {},
   "source": [
    "Preprocessing query q"
   ]
  },
  {
   "cell_type": "code",
   "execution_count": 3,
   "metadata": {
    "collapsed": true
   },
   "outputs": [],
   "source": [
    "q_edge = {}\n",
    "q_label = {}\n",
    "q_vt_degree = {}\n",
    "# format: {'1': 6, '2': 9...}\n",
    "\n",
    "testfile = open(\"testquery.txt\", \"r\")\n",
    "for string in testfile:\n",
    "    line = string.split(' ')\n",
    "    if len(line) > 1:\n",
    "        first_part = line[0]\n",
    "        second_part = line[1]\n",
    "        if second_part[-1] == \"\\n\":\n",
    "            second_part = second_part[:-1]\n",
    "        if second_part.isdigit():\n",
    "            f_l = q_label[first_part]\n",
    "            s_l = q_label[second_part]\n",
    "            if s_l not in q_edge[first_part]:\n",
    "                q_edge[first_part][s_l] = []\n",
    "            q_edge[first_part][s_l].append(second_part)\n",
    "            if f_l not in q_edge[second_part]:\n",
    "                q_edge[second_part][f_l] = []\n",
    "            q_edge[second_part][f_l].append(first_part)\n",
    "        else:\n",
    "            q_label[first_part] = second_part\n",
    "            template = {}\n",
    "            q_edge[first_part] = {}\n",
    "            \n",
    "testfile.close()\n",
    "\n",
    "for node in q_edge:\n",
    "    q_vt_degree[node] = len(list(chain.from_iterable(list(q_edge[node].values()))))"
   ]
  },
  {
   "cell_type": "markdown",
   "metadata": {
    "collapsed": true
   },
   "source": [
    "# BuildDAG(q, G)"
   ]
  },
  {
   "cell_type": "markdown",
   "metadata": {},
   "source": [
    "find the root: prefer the root to have a small number of candidates in G and to have a large degree for better pruning"
   ]
  },
  {
   "cell_type": "code",
   "execution_count": 4,
   "metadata": {
    "collapsed": true
   },
   "outputs": [],
   "source": [
    "array = []\n",
    "for i in q_label.keys():\n",
    "    degree = q_vt_degree[i]\n",
    "    Candidates = [x for x in Graph_label_class[q_label[i]] if Graph_vt_degree[x] >= degree]\n",
    "    array.append(len(Candidates) / degree)\n",
    "start_key = list(q_label.keys())[np.argmin(array)] # root key for q_D\n",
    "tail_key = [] # root key for q_D_i"
   ]
  },
  {
   "cell_type": "markdown",
   "metadata": {},
   "source": [
    "create DAG tree"
   ]
  },
  {
   "cell_type": "code",
   "execution_count": 5,
   "metadata": {
    "collapsed": true
   },
   "outputs": [],
   "source": [
    "def deep_copy(lib):\n",
    "    ret = {}\n",
    "    for i in lib.keys():\n",
    "        ret[i] = {}\n",
    "        for j in lib[i].keys():\n",
    "            ret[i][j] = lib[i][j].copy()\n",
    "    return ret\n",
    "\n",
    "def degree(elem, library):\n",
    "    return len(list(chain.from_iterable(list(library[elem].values()))))"
   ]
  },
  {
   "cell_type": "code",
   "execution_count": 6,
   "metadata": {
    "collapsed": true
   },
   "outputs": [],
   "source": [
    "q_D = deep_copy(q_edge)\n",
    "q_D_i = deep_copy(q_edge)"
   ]
  },
  {
   "cell_type": "code",
   "execution_count": 7,
   "metadata": {
    "collapsed": true
   },
   "outputs": [],
   "source": [
    "# use three ordering, compare order layer->q_label->q_vt_degree\n",
    "order_layer = {} #format: {vertex: 1}\n",
    "\n",
    "reference_label = {}\n",
    "for label in Graph_label_class:\n",
    "    reference_label[label] = len(Graph_label_class[label])\n",
    "\n",
    "queue = Queue(maxsize=0)\n",
    "mark = set()\n",
    "def BFS_layer(node):\n",
    "    queue.put(node)\n",
    "    queue.put('*')\n",
    "    layer = 0\n",
    "    mark.add(node)\n",
    "    while queue.empty() == False:\n",
    "        current = queue.get()\n",
    "        if current == '*':\n",
    "            #the layer ended\n",
    "            layer += 1\n",
    "            if queue.empty() == False:\n",
    "                queue.put('*')\n",
    "        else:\n",
    "            order_layer[current] = layer\n",
    "            for con_vt in list(chain.from_iterable(list(q_edge[current].values()))):\n",
    "                if con_vt not in mark:\n",
    "                    queue.put(con_vt)\n",
    "                    mark.add(con_vt)"
   ]
  },
  {
   "cell_type": "code",
   "execution_count": 8,
   "metadata": {
    "collapsed": true
   },
   "outputs": [],
   "source": [
    "#Run only once!!!\n",
    "BFS_layer(start_key)"
   ]
  },
  {
   "cell_type": "code",
   "execution_count": 9,
   "metadata": {
    "collapsed": true
   },
   "outputs": [],
   "source": [
    "def points_to(key1, key2):\n",
    "    # In q_D, return True if key1->key2\n",
    "    if order_layer[key1] != order_layer[key2]:\n",
    "        return order_layer[key1] < order_layer[key2]\n",
    "    if q_label[key1] != q_label[key2]:\n",
    "        if reference_label[q_label[key1]] != reference_label[q_label[key2]]:\n",
    "            return reference_label[q_label[key1]] < reference_label[q_label[key2]]\n",
    "        else:\n",
    "            return q_label[key1] < q_label[key2]\n",
    "    if q_vt_degree[key1] != q_vt_degree[key2]:\n",
    "        return q_vt_degree[key1] > q_vt_degree[key2]\n",
    "    return key1 > key2"
   ]
  },
  {
   "cell_type": "code",
   "execution_count": 10,
   "metadata": {
    "collapsed": true
   },
   "outputs": [],
   "source": [
    "#Run only once!!!\n",
    "for start in q_edge:\n",
    "    check_tail = 0\n",
    "    for label in q_edge[start]:\n",
    "        for end in q_edge[start][label]:\n",
    "            if points_to(start, end):\n",
    "                q_D_i[start][label].remove(end)\n",
    "                check_tail += 1\n",
    "            else:\n",
    "                q_D[start][label].remove(end)\n",
    "    if check_tail == 0:\n",
    "        tail_key.append(start)"
   ]
  },
  {
   "cell_type": "markdown",
   "metadata": {},
   "source": [
    "# BuildCS"
   ]
  },
  {
   "cell_type": "markdown",
   "metadata": {},
   "source": [
    "initial CS: LG(v) = Lq(u) and degG(v) ≥ degq (u )"
   ]
  },
  {
   "cell_type": "code",
   "execution_count": 21,
   "metadata": {
    "collapsed": true
   },
   "outputs": [],
   "source": [
    "CS = {}\n",
    "for i in q_label.keys():\n",
    "    degree = q_vt_degree[i]\n",
    "    Candidates = [x for x in Graph_label_class[q_label[i]] if Graph_vt_degree[x] >= degree]\n",
    "    CS[i] = Candidates"
   ]
  },
  {
   "cell_type": "markdown",
   "metadata": {},
   "source": [
    "define the refine function"
   ]
  },
  {
   "cell_type": "code",
   "execution_count": 12,
   "metadata": {
    "collapsed": true
   },
   "outputs": [],
   "source": [
    "def refine(qD, key, cs):\n",
    "    queue = Queue(maxsize=0)\n",
    "    for root in key:\n",
    "        queue.put(root)\n",
    "    marked = set()\n",
    "    while queue.empty() == False:\n",
    "        node = queue.get()\n",
    "        if node in marked:\n",
    "            continue\n",
    "        marked.add(node)\n",
    "        node_connected = list(chain.from_iterable(list(qD[node].values())))\n",
    "        for node2 in node_connected:\n",
    "            label = q_label[node2]\n",
    "            if node2 not in marked:\n",
    "                queue.put(node2)\n",
    "            for candidate in cs[node]:\n",
    "                c_neighbor = Graph_edge[candidate][label]\n",
    "                count = 0\n",
    "                for cs_filter in cs[node2]:\n",
    "                    if cs_filter in c_neighbor:\n",
    "                        count += 1\n",
    "                        break\n",
    "                if count == 0:\n",
    "                    cs[node].remove(candidate)"
   ]
  },
  {
   "cell_type": "markdown",
   "metadata": {},
   "source": [
    "refine initial CS three round, each round: q_D_i, q_D"
   ]
  },
  {
   "cell_type": "code",
   "execution_count": 22,
   "metadata": {},
   "outputs": [],
   "source": [
    "for i in range(3):\n",
    "    refine(q_D_i, tail_key, CS)\n",
    "    refine(q_D, [start_key], CS)"
   ]
  },
  {
   "cell_type": "markdown",
   "metadata": {},
   "source": [
    "# Backtracking"
   ]
  },
  {
   "cell_type": "markdown",
   "metadata": {},
   "source": [
    "Use Path-size order; assign weight to all node's candidates:\n",
    "    1. topological sort\n",
    "    (1.5) compute which nodes in q has only one parent\n",
    "    2. dynamic programming"
   ]
  },
  {
   "cell_type": "markdown",
   "metadata": {},
   "source": [
    "step 1"
   ]
  },
  {
   "cell_type": "code",
   "execution_count": 45,
   "metadata": {
    "collapsed": true
   },
   "outputs": [],
   "source": [
    "mark = set()\n",
    "q_sort_result = []"
   ]
  },
  {
   "cell_type": "code",
   "execution_count": 46,
   "metadata": {},
   "outputs": [],
   "source": [
    "def topsort(v):\n",
    "    mark.add(v)\n",
    "    for children_label in q_D[v]:\n",
    "        for child in q_D[v][children_label]:\n",
    "            if child not in mark:\n",
    "                topsort(child)\n",
    "    global q_sort_result\n",
    "    q_sort_result.append(v)\n",
    "topsort(start_key)"
   ]
  },
  {
   "cell_type": "markdown",
   "metadata": {},
   "source": [
    "step 1.5"
   ]
  },
  {
   "cell_type": "code",
   "execution_count": 28,
   "metadata": {
    "collapsed": true
   },
   "outputs": [],
   "source": [
    "q_nodes_with_one_parent = []\n",
    "do_not_add_again = []\n",
    "for i in q_D:\n",
    "    for j in q_D[i]:\n",
    "        for k in q_D[i][j]:\n",
    "            if k in do_not_add_again:\n",
    "                continue\n",
    "            if k in q_nodes_with_one_parent:\n",
    "                q_nodes_with_one_parent.remove(k)\n",
    "                do_not_add_again.append(k)\n",
    "                continue\n",
    "            q_nodes_with_one_parent.append(k)"
   ]
  },
  {
   "cell_type": "markdown",
   "metadata": {},
   "source": [
    "step 2"
   ]
  },
  {
   "cell_type": "code",
   "execution_count": 49,
   "metadata": {
    "collapsed": true
   },
   "outputs": [],
   "source": [
    "def common_member(a, b): \n",
    "    a_set = set(a) \n",
    "    b_set = set(b) \n",
    "    if len(a_set.intersection(b_set)) > 0: \n",
    "        return(a_set.intersection(b_set))   \n",
    "    else: \n",
    "        return([])"
   ]
  },
  {
   "cell_type": "code",
   "execution_count": 61,
   "metadata": {},
   "outputs": [],
   "source": [
    "weight = {}\n",
    "W_M = {}\n",
    "# ('2' -- u in q, '3' -- v in G) = weight\n",
    "for u in q_sort_result:\n",
    "    child_q = list(chain.from_iterable(list(q_D[u].values())))\n",
    "    c_list = common_member(q_nodes_with_one_parent, child_q)\n",
    "    if len(c_list) == 0:\n",
    "        u_ = 0\n",
    "        for v in CS[u]:\n",
    "            weight[(u,v)] = 1\n",
    "            u_ += 1\n",
    "        W_M[u] = u_\n",
    "    else:\n",
    "        u_ = 0\n",
    "        for v in CS[u]:\n",
    "            u_v = np.inf\n",
    "            for c in c_list:\n",
    "                temp = 0\n",
    "                common = common_member(list(chain.from_iterable(list(Graph_edge[v].values()))), CS[c])\n",
    "                for ci in common:\n",
    "                    temp += weight[(c,ci)]\n",
    "                if temp < u_v:\n",
    "                    u_v = temp\n",
    "            weight[(u,v)] = u_v\n",
    "            u_ += weight[(u,v)]\n",
    "        W_M[u] = u_"
   ]
  },
  {
   "cell_type": "markdown",
   "metadata": {},
   "source": [
    "backtracking"
   ]
  },
  {
   "cell_type": "code",
   "execution_count": 116,
   "metadata": {},
   "outputs": [],
   "source": [
    "def Backtrack(M, bag):\n",
    "    if len(M) == len(q_label):\n",
    "        print(M)\n",
    "    elif len(M) == 0:\n",
    "        for v in CS[start_key]:\n",
    "            M = set()\n",
    "            M.add((start_key, v))\n",
    "            bag.add(v)\n",
    "            Backtrack(M, bag)\n",
    "            bag.remove(v)\n",
    "    else:\n",
    "        extendable = start_key\n",
    "        min_weight = np.inf\n",
    "        for u in q_D_i:\n",
    "            if any(key[0] == u for key in M):\n",
    "                continue\n",
    "            b = list(chain.from_iterable(list(q_D_i[u].values())))\n",
    "            if all(any(key[0] == key2 for key in M) for key2 in b) and W_M[u] < min_weight:\n",
    "                min_weight = W_M[u]\n",
    "                extendable = u\n",
    "        for v in CS[extendable]:\n",
    "            if v not in bag:\n",
    "                M.add((extendable, v))\n",
    "                bag.add(v)\n",
    "                Backtrack(M, bag)\n",
    "                bag.remove(v)"
   ]
  },
  {
   "cell_type": "code",
   "execution_count": 117,
   "metadata": {},
   "outputs": [
    {
     "name": "stdout",
     "output_type": "stream",
     "text": [
      "{('2', '3'), ('3', '5'), ('4', '10'), ('1', '1')}\n"
     ]
    }
   ],
   "source": [
    "M = set()\n",
    "bag = set()\n",
    "Backtrack(M, bag)"
   ]
  },
  {
   "cell_type": "code",
   "execution_count": null,
   "metadata": {},
   "outputs": [],
   "source": []
  },
  {
   "cell_type": "code",
   "execution_count": null,
   "metadata": {},
   "outputs": [],
   "source": []
  },
  {
   "cell_type": "code",
   "execution_count": null,
   "metadata": {},
   "outputs": [],
   "source": []
  },
  {
   "cell_type": "code",
   "execution_count": null,
   "metadata": {},
   "outputs": [],
   "source": []
  },
  {
   "cell_type": "code",
   "execution_count": null,
   "metadata": {},
   "outputs": [],
   "source": []
  },
  {
   "cell_type": "code",
   "execution_count": null,
   "metadata": {
    "collapsed": true
   },
   "outputs": [],
   "source": []
  },
  {
   "cell_type": "code",
   "execution_count": null,
   "metadata": {
    "collapsed": true
   },
   "outputs": [],
   "source": []
  }
 ],
 "metadata": {
  "kernelspec": {
   "display_name": "Python 3",
   "language": "python",
   "name": "python3"
  },
  "language_info": {
   "codemirror_mode": {
    "name": "ipython",
    "version": 3
   },
   "file_extension": ".py",
   "mimetype": "text/x-python",
   "name": "python",
   "nbconvert_exporter": "python",
   "pygments_lexer": "ipython3",
   "version": "3.6.7"
  }
 },
 "nbformat": 4,
 "nbformat_minor": 2
}
