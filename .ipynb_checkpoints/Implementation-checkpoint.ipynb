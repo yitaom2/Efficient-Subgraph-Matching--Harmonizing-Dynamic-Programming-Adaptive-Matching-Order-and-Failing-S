{
 "cells": [
  {
   "cell_type": "code",
   "execution_count": 1,
   "metadata": {
    "collapsed": true
   },
   "outputs": [],
   "source": [
    "import numpy as np"
   ]
  },
  {
   "cell_type": "markdown",
   "metadata": {},
   "source": [
    "# Preprocessing Graph G"
   ]
  },
  {
   "cell_type": "code",
   "execution_count": 2,
   "metadata": {
    "collapsed": true
   },
   "outputs": [],
   "source": [
    "Graph_label_class = {}\n",
    "# format: {'A': ['1', '2'], 'B': ['3', '4']}\n",
    "Graph_edge = {}\n",
    "# format: {'1': {'A': ['3', '4'], 'B': ['2']}, '2': {'A': ['1']}...}\n",
    "Graph_label = {}\n",
    "# format: {'1': 'A', '2': 'A'...}\n",
    "\n",
    "testfile = open(\"test.txt\", \"r\")\n",
    "for string in testfile:\n",
    "    # three types of lines\n",
    "    # 1. \"int\" \n",
    "    # 2. \"index label\\n\" -- denotes a vertex's label\n",
    "    # 3. \"index index\\n\" -- denotes a edge between vertex\n",
    "    line = string.split(' ')\n",
    "    if len(line) > 1:\n",
    "        # case 2 or 3\n",
    "        first_part = line[0]\n",
    "        second_part = line[1]\n",
    "        if second_part[-1] == \"\\n\":\n",
    "            second_part = second_part[:-1]\n",
    "        if second_part.isdigit():\n",
    "            # case 3\n",
    "            f_l = Graph_label[first_part]\n",
    "            s_l = Graph_label[second_part]\n",
    "            if s_l not in Graph_edge[first_part]:\n",
    "                Graph_edge[first_part][s_l] = []\n",
    "            Graph_edge[first_part][s_l].append(second_part)\n",
    "            if f_l not in Graph_edge[second_part]:\n",
    "                Graph_edge[second_part][f_l] = []\n",
    "            Graph_edge[second_part][f_l].append(first_part)\n",
    "        else:\n",
    "            Graph_label[first_part] = second_part\n",
    "            template = {}\n",
    "            Graph_edge[first_part] = {}\n",
    "            if second_part not in Graph_label_class:\n",
    "                Graph_label_class[second_part] = []\n",
    "            Graph_label_class[second_part].append(first_part)\n",
    "            \n",
    "testfile.close()"
   ]
  },
  {
   "cell_type": "markdown",
   "metadata": {},
   "source": [
    "# Preprocessing Query q"
   ]
  },
  {
   "cell_type": "code",
   "execution_count": 3,
   "metadata": {
    "collapsed": true
   },
   "outputs": [],
   "source": [
    "q_edge = {}\n",
    "q_label = {}\n",
    "\n",
    "testfile = open(\"testquery.txt\", \"r\")\n",
    "for string in testfile:\n",
    "    line = string.split(' ')\n",
    "    if len(line) > 1:\n",
    "        first_part = line[0]\n",
    "        second_part = line[1]\n",
    "        if second_part[-1] == \"\\n\":\n",
    "            second_part = second_part[:-1]\n",
    "        if second_part.isdigit():\n",
    "            f_l = q_label[first_part]\n",
    "            s_l = q_label[second_part]\n",
    "            if s_l not in q_edge[first_part]:\n",
    "                q_edge[first_part][s_l] = []\n",
    "            q_edge[first_part][s_l].append(second_part)\n",
    "            if f_l not in q_edge[second_part]:\n",
    "                q_edge[second_part][f_l] = []\n",
    "            q_edge[second_part][f_l].append(first_part)\n",
    "        else:\n",
    "            q_label[first_part] = second_part\n",
    "            template = {}\n",
    "            q_edge[first_part] = {}\n",
    "            \n",
    "testfile.close()"
   ]
  },
  {
   "cell_type": "markdown",
   "metadata": {
    "collapsed": true
   },
   "source": [
    "# BuildDAG(q, G)"
   ]
  },
  {
   "cell_type": "markdown",
   "metadata": {},
   "source": [
    "find the root: prefer the root to have a small number of candidates in G and to have a large degree for better pruning"
   ]
  },
  {
   "cell_type": "code",
   "execution_count": 4,
   "metadata": {
    "collapsed": true
   },
   "outputs": [],
   "source": [
    "array = []\n",
    "for i in q_label.keys():\n",
    "    count = 0\n",
    "    for j in q_edge[i].values():\n",
    "        count += len(j)\n",
    "    array.append(len(Graph_label_class[q_label[i]]) / count)\n",
    "\n",
    "start_key = list(q_label.keys())[np.argmin(array)] # root key for q_D\n",
    "tail_key = start_key # root key for q_D_i"
   ]
  },
  {
   "cell_type": "markdown",
   "metadata": {},
   "source": [
    "create DAG tree"
   ]
  },
  {
   "cell_type": "code",
   "execution_count": 5,
   "metadata": {
    "collapsed": true
   },
   "outputs": [],
   "source": [
    "from itertools import chain\n",
    "\n",
    "def deep_copy(lib):\n",
    "    ret = {}\n",
    "    for i in lib.keys():\n",
    "        ret[i] = {}\n",
    "        for j in lib[i].keys():\n",
    "            ret[i][j] = lib[i][j].copy()\n",
    "    return ret\n",
    "\n",
    "#pop and push for array\n",
    "def q_pop(queue):\n",
    "    temp = queue[0]\n",
    "    queue.pop(0)\n",
    "    return temp\n",
    "\n",
    "def q_push(queue, element_list, bag):\n",
    "    for element in element_list:\n",
    "        if element in bag:\n",
    "            # haven't added in queue before, truely is child\n",
    "            queue += element\n",
    "            bag.remove(element)\n",
    "        else:\n",
    "            print(element)\n",
    "            element_list.remove(element)\n",
    "    return\n",
    "\n",
    "def degree(elem, library):\n",
    "    return len(list(chain.from_iterable(list(library[elem].values()))))"
   ]
  },
  {
   "cell_type": "code",
   "execution_count": 6,
   "metadata": {
    "collapsed": true
   },
   "outputs": [],
   "source": [
    "q_D = deep_copy(q_edge)\n",
    "q_D_i = deep_copy(q_edge)\n",
    "\n",
    "root_queue = [start_key]\n",
    "child_queue = []\n",
    "root_id = 0\n",
    "\n",
    "bag = list(q_label.keys()).copy()\n",
    "# bag: ['1', '2, '3', '4'], used to make sure things added in bag before can't be added again\n",
    "\n",
    "while len(root_queue) + len(child_queue) > 0:\n",
    "    current = root_queue[root_id]\n",
    "    groups = q_D[current]\n",
    "    # groups: {'A': ['1'], 'C': ['3', '2'], 'D': ['4']}\n",
    "    for groups_1 in range(len(groups)):\n",
    "        label = list(groups.keys())[groups_1]\n",
    "        # label: 'A'\n",
    "        \n",
    "        # delete relationships within layers\n",
    "        for vertex in groups[label]:\n",
    "            # vertex: '3'\n",
    "            if vertex not in root_queue:\n",
    "                # this is a child, but possibly already in child_queue by other root\n",
    "                if vertex not in child_queue:\n",
    "                    child_queue += [vertex]\n",
    "#                 print(current, vertex, q_label[current])\n",
    "                q_D[vertex][q_label[current]].remove(current)\n",
    "                q_D_i[current][q_label[vertex]].remove(vertex)\n",
    "    \n",
    "    root_id += 1\n",
    "    if root_id == len(root_queue):\n",
    "        # in one layer\n",
    "        for elem_1 in child_queue:\n",
    "            for elem_2 in child_queue:\n",
    "                label1 = q_label[elem_1]\n",
    "                label2 = q_label[elem_2]\n",
    "            \n",
    "                if label1 == label2:\n",
    "                    # within a label\n",
    "                    degree1 = degree(elem_1, q_edge)\n",
    "                    degree2 = degree(elem_2, q_edge)\n",
    "                    if degree1 < degree2 or (degree1 == degree2 and elem_1 < elem_2):\n",
    "                        if label2 in q_D[elem_1] and elem_2 in q_D[elem_1][label2]:\n",
    "                            q_D[elem_1][label2].remove(elem_2)\n",
    "                            q_D_i[elem_2][label1].remove(elem_1)\n",
    "                else:\n",
    "                    # within groups\n",
    "                    freq_label1 = len(Graph_label_class[label1])\n",
    "                    freq_label2 = len(Graph_label_class[label2])\n",
    "                    if freq_label1 > freq_label2 or (freq_label1 == freq_label2 and elem_1 < elem_2):\n",
    "                        if label2 in q_D[elem_1] and elem_2 in q_D[elem_1][label2]:\n",
    "                            q_D[elem_1][label2].remove(elem_2)\n",
    "                            q_D_i[elem_2][label1].remove(elem_1)\n",
    "        \n",
    "        tail_key = root_queue[-1]\n",
    "        root_queue = child_queue\n",
    "        child_queue = []\n",
    "        root_id = 0"
   ]
  },
  {
   "cell_type": "markdown",
   "metadata": {},
   "source": [
    "# BuildCS"
   ]
  },
  {
   "cell_type": "markdown",
   "metadata": {},
   "source": [
    "initial CS: LG(v) = Lq(u) and degG(v) ≥ degq (u )"
   ]
  },
  {
   "cell_type": "code",
   "execution_count": 74,
   "metadata": {
    "collapsed": true
   },
   "outputs": [],
   "source": [
    "CS = q_label.copy()\n",
    "for key in CS:\n",
    "    label = CS[key]\n",
    "    CS[key] = []\n",
    "    base_deg = degree(key, q_edge)\n",
    "    for G_key in Graph_label_class[label]:\n",
    "        if degree(G_key, Graph_edge) >= base_deg:\n",
    "            CS[key].append(G_key)"
   ]
  },
  {
   "cell_type": "markdown",
   "metadata": {},
   "source": [
    "define the refine function"
   ]
  },
  {
   "cell_type": "code",
   "execution_count": 75,
   "metadata": {},
   "outputs": [],
   "source": [
    "def refine(qD, key, cs):\n",
    "    queue = [key]\n",
    "    marked = []\n",
    "    while len(queue) > 0:\n",
    "        node = q_pop(queue)\n",
    "        if node in marked:\n",
    "            continue\n",
    "        marked.append(node)\n",
    "        node_connected = list(chain.from_iterable(list(qD[node].values())))\n",
    "        for node2 in node_connected:\n",
    "            label = q_label[node2]\n",
    "            if node2 not in marked:\n",
    "                queue += [node2]\n",
    "            for candidate in cs[node]:\n",
    "                c_neighbor = Graph_edge[candidate][label]\n",
    "                count = 0\n",
    "                for cs_filter in cs[node2]:\n",
    "                    if cs_filter in c_neighbor:\n",
    "                        count += 1\n",
    "                        break\n",
    "                if count == 0:\n",
    "                    cs[node].remove(candidate)"
   ]
  },
  {
   "cell_type": "markdown",
   "metadata": {},
   "source": [
    "refine initial CS three round, each round: q_D_i, q_D"
   ]
  },
  {
   "cell_type": "code",
   "execution_count": 76,
   "metadata": {},
   "outputs": [],
   "source": [
    "for i in range(3):\n",
    "    refine(q_D_i, tail_key, CS)\n",
    "    refine(q_D, start_key, CS)"
   ]
  },
  {
   "cell_type": "code",
   "execution_count": null,
   "metadata": {},
   "outputs": [],
   "source": []
  },
  {
   "cell_type": "code",
   "execution_count": null,
   "metadata": {},
   "outputs": [],
   "source": []
  },
  {
   "cell_type": "code",
   "execution_count": null,
   "metadata": {},
   "outputs": [],
   "source": []
  },
  {
   "cell_type": "code",
   "execution_count": null,
   "metadata": {},
   "outputs": [],
   "source": []
  },
  {
   "cell_type": "code",
   "execution_count": null,
   "metadata": {
    "collapsed": true
   },
   "outputs": [],
   "source": []
  }
 ],
 "metadata": {
  "kernelspec": {
   "display_name": "Python 3",
   "language": "python",
   "name": "python3"
  },
  "language_info": {
   "codemirror_mode": {
    "name": "ipython",
    "version": 3
   },
   "file_extension": ".py",
   "mimetype": "text/x-python",
   "name": "python",
   "nbconvert_exporter": "python",
   "pygments_lexer": "ipython3",
   "version": "3.6.7"
  }
 },
 "nbformat": 4,
 "nbformat_minor": 2
}
